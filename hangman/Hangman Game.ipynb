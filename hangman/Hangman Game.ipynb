{
 "cells": [
  {
   "cell_type": "markdown",
   "id": "fb77c403-0c05-41a6-ba61-97ecbcca07e1",
   "metadata": {},
   "source": [
    "## Hangman Game\n",
    "### 遊戲規則\n",
    "- 給與單字字母數進行猜測\n",
    "    - 符號視為一字\n",
    "- 以字母猜測\n",
    "    - 是單字的字母: -0點生命值\n",
    "    - 不是是單字的字母: -1點生命值\n",
    "- 顯示以猜過的字母\n",
    "- 要在生命值結束前猜對，未達成進行逞罰遊戲(彈耳朵)\n",
    "### 特殊規則\n",
    "- 偷看單字庫:-3點生命值\n",
    "- 問單字相關問題:\n",
    "    - 與單字意思相關:類別，描述(需用英文問答): -1點生命值\n",
    "    - 給予其中一個字母: -1點生命值\n",
    "        - 若為字首則偷看單字庫無法再使用\n",
    "        - 上限兩次\n",
    "### 變形玩法\n",
    "- 互猜對方的單字"
   ]
  },
  {
   "cell_type": "markdown",
   "id": "588abc97-663f-4c8f-a318-fc6caabeb5e4",
   "metadata": {},
   "source": [
    "### 指令集\n",
    "- a~z:猜字母\n",
    "- help:給予其中一個字母\n",
    "- db:偷看題庫\n",
    "    - 只能依序看\n",
    "    - 每頁限制2秒\n",
    "- dbp:偷看題庫(特定頁數)\n",
    "    - 限制30秒\n",
    "- exit:結束遊戲"
   ]
  },
  {
   "cell_type": "code",
   "execution_count": 3,
   "id": "2c03abf1-216b-439a-98b2-8c9262a6a40c",
   "metadata": {},
   "outputs": [],
   "source": [
    "#import \n",
    "import numpy as np\n",
    "import string, time\n",
    "import pandas as pd\n",
    "from datetime import datetime\n",
    "from module.game_start import game_start\n",
    "from module.hangman import HangmanGame"
   ]
  },
  {
   "cell_type": "code",
   "execution_count": 4,
   "id": "95dffbc3-ed4f-4251-ba2f-1ff71a06b9ac",
   "metadata": {},
   "outputs": [
    {
     "data": {
      "text/plain": [
       "'You win the game!'"
      ]
     },
     "metadata": {},
     "output_type": "display_data"
    },
    {
     "name": "stdout",
     "output_type": "stream",
     "text": [
      "Answer is moon festival.\n"
     ]
    },
    {
     "data": {
      "text/html": [
       "<style type=\"text/css\">\n",
       "</style>\n",
       "<table id=\"T_df5f9\">\n",
       "  <thead>\n",
       "    <tr>\n",
       "      <th id=\"T_df5f9_level0_col0\" class=\"col_heading level0 col0\" >編號</th>\n",
       "      <th id=\"T_df5f9_level0_col1\" class=\"col_heading level0 col1\" >單字</th>\n",
       "      <th id=\"T_df5f9_level0_col2\" class=\"col_heading level0 col2\" >中文解釋</th>\n",
       "    </tr>\n",
       "  </thead>\n",
       "  <tbody>\n",
       "    <tr>\n",
       "      <td id=\"T_df5f9_row0_col0\" class=\"data row0 col0\" >235</td>\n",
       "      <td id=\"T_df5f9_row0_col1\" class=\"data row0 col1\" >minute</td>\n",
       "      <td id=\"T_df5f9_row0_col2\" class=\"data row0 col2\" >分鐘</td>\n",
       "    </tr>\n",
       "    <tr>\n",
       "      <td id=\"T_df5f9_row1_col0\" class=\"data row1 col0\" >236</td>\n",
       "      <td id=\"T_df5f9_row1_col1\" class=\"data row1 col1\" >mistake</td>\n",
       "      <td id=\"T_df5f9_row1_col2\" class=\"data row1 col2\" >錯誤</td>\n",
       "    </tr>\n",
       "    <tr>\n",
       "      <td id=\"T_df5f9_row2_col0\" class=\"data row2 col0\" >237</td>\n",
       "      <td id=\"T_df5f9_row2_col1\" class=\"data row2 col1\" >Moon Festival</td>\n",
       "      <td id=\"T_df5f9_row2_col2\" class=\"data row2 col2\" >中秋節</td>\n",
       "    </tr>\n",
       "    <tr>\n",
       "      <td id=\"T_df5f9_row3_col0\" class=\"data row3 col0\" >238</td>\n",
       "      <td id=\"T_df5f9_row3_col1\" class=\"data row3 col1\" >Mother's Day</td>\n",
       "      <td id=\"T_df5f9_row3_col2\" class=\"data row3 col2\" >母親節</td>\n",
       "    </tr>\n",
       "    <tr>\n",
       "      <td id=\"T_df5f9_row4_col0\" class=\"data row4 col0\" >239</td>\n",
       "      <td id=\"T_df5f9_row4_col1\" class=\"data row4 col1\" >motorcycle</td>\n",
       "      <td id=\"T_df5f9_row4_col2\" class=\"data row4 col2\" >摩托車</td>\n",
       "    </tr>\n",
       "  </tbody>\n",
       "</table>\n"
      ],
      "text/plain": [
       "<pandas.io.formats.style.Styler at 0x182f63f5700>"
      ]
     },
     "metadata": {},
     "output_type": "display_data"
    }
   ],
   "source": [
    "life = 10\n",
    "fname = 'vocdb.csv'\n",
    "vocdb = pd.read_csv(fname, sep=',', encoding='utf-8', engine='python')\n",
    "game = HangmanGame(vocdb, life)\n",
    "game_start(game)"
   ]
  }
 ],
 "metadata": {
  "kernelspec": {
   "display_name": "Python 3 (ipykernel)",
   "language": "python",
   "name": "python3"
  },
  "language_info": {
   "codemirror_mode": {
    "name": "ipython",
    "version": 3
   },
   "file_extension": ".py",
   "mimetype": "text/x-python",
   "name": "python",
   "nbconvert_exporter": "python",
   "pygments_lexer": "ipython3",
   "version": "3.9.12"
  }
 },
 "nbformat": 4,
 "nbformat_minor": 5
}
