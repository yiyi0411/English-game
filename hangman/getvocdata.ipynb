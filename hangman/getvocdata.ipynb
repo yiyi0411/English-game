{
 "cells": [
  {
   "cell_type": "code",
   "execution_count": 49,
   "id": "50e375c8-5a62-4fad-bc96-8a4b14a13262",
   "metadata": {},
   "outputs": [],
   "source": [
    "# import package\n",
    "import requests\n",
    "import bs4\n",
    "from bs4 import BeautifulSoup\n",
    "import pandas as pd\n",
    "import time"
   ]
  },
  {
   "cell_type": "code",
   "execution_count": 50,
   "id": "e275d97c-172b-417c-a3be-5dcb1e3aa40e",
   "metadata": {},
   "outputs": [],
   "source": [
    "# url and get data test\n",
    "url = f'https://sites.google.com/a/mail.pces.ilc.edu.tw/100english/{201}-{3}00'\n",
    "resp = requests.request(method='GET', url=url)#return data table\n",
    "resp.encoding = 'utf-8'\n",
    "data = pd.read_html(resp.text, header=0)#return list(length:3)"
   ]
  },
  {
   "cell_type": "code",
   "execution_count": 52,
   "id": "96f2f75c-feee-4c1d-bf4e-49ca0be3e8d2",
   "metadata": {},
   "outputs": [
    {
     "name": "stdout",
     "output_type": "stream",
     "text": [
      "table rows: 101 cols:3\n"
     ]
    },
    {
     "data": {
      "text/html": [
       "<div>\n",
       "<style scoped>\n",
       "    .dataframe tbody tr th:only-of-type {\n",
       "        vertical-align: middle;\n",
       "    }\n",
       "\n",
       "    .dataframe tbody tr th {\n",
       "        vertical-align: top;\n",
       "    }\n",
       "\n",
       "    .dataframe thead th {\n",
       "        text-align: right;\n",
       "    }\n",
       "</style>\n",
       "<table border=\"1\" class=\"dataframe\">\n",
       "  <thead>\n",
       "    <tr style=\"text-align: right;\">\n",
       "      <th></th>\n",
       "      <th>編號</th>\n",
       "      <th>單字</th>\n",
       "      <th>中文解釋</th>\n",
       "    </tr>\n",
       "  </thead>\n",
       "  <tbody>\n",
       "    <tr>\n",
       "      <th>0</th>\n",
       "      <td>201</td>\n",
       "      <td>jump</td>\n",
       "      <td>跳躍</td>\n",
       "    </tr>\n",
       "    <tr>\n",
       "      <th>1</th>\n",
       "      <td>202</td>\n",
       "      <td>juice</td>\n",
       "      <td>果汁</td>\n",
       "    </tr>\n",
       "    <tr>\n",
       "      <th>2</th>\n",
       "      <td>203</td>\n",
       "      <td>kick</td>\n",
       "      <td>踢</td>\n",
       "    </tr>\n",
       "    <tr>\n",
       "      <th>3</th>\n",
       "      <td>204</td>\n",
       "      <td>knee</td>\n",
       "      <td>膝蓋</td>\n",
       "    </tr>\n",
       "    <tr>\n",
       "      <th>4</th>\n",
       "      <td>205</td>\n",
       "      <td>knife</td>\n",
       "      <td>刀子</td>\n",
       "    </tr>\n",
       "  </tbody>\n",
       "</table>\n",
       "</div>"
      ],
      "text/plain": [
       "    編號     單字 中文解釋\n",
       "0  201   jump   跳躍\n",
       "1  202  juice   果汁\n",
       "2  203   kick    踢\n",
       "3  204   knee   膝蓋\n",
       "4  205  knife   刀子"
      ]
     },
     "execution_count": 52,
     "metadata": {},
     "output_type": "execute_result"
    }
   ],
   "source": [
    "print(\"table rows: {} cols:{}\".format(data[1].shape[0], data[1].shape[1]))\n",
    "data[2].head()"
   ]
  },
  {
   "cell_type": "code",
   "execution_count": 53,
   "id": "c81aec6f-f4bc-448b-aee1-d8ef3d8eb6d0",
   "metadata": {},
   "outputs": [],
   "source": [
    "df_list = [] #table list\n",
    "# loop to get all data\n",
    "for i in range(3+1):\n",
    "    url = f'https://sites.google.com/a/mail.pces.ilc.edu.tw/100english/{1+i*100}-{i+1}00'\n",
    "    resp = requests.request(method='GET', url=url)\n",
    "    resp.encoding = 'utf-8'\n",
    "    if(i == 0):\n",
    "        data = pd.read_html(resp.text, header=1)#need  colnames\n",
    "    else:\n",
    "        data = pd.read_html(resp.text, header=0)#don't need  colnames\n",
    "        \n",
    "    df = data[2]\n",
    "    time.sleep(1)\n",
    "    df_list.append(df)#concat list\n",
    "df = pd.concat(df_list, axis=0, verify_integrity=True, ignore_index=True)  "
   ]
  },
  {
   "cell_type": "code",
   "execution_count": 54,
   "id": "ad204e5f-cfca-4aa7-a80d-80b64edf3c17",
   "metadata": {},
   "outputs": [
    {
     "data": {
      "text/html": [
       "<style type=\"text/css\">\n",
       "</style>\n",
       "<table id=\"T_d5537\">\n",
       "  <thead>\n",
       "    <tr>\n",
       "      <th id=\"T_d5537_level0_col0\" class=\"col_heading level0 col0\" >編號</th>\n",
       "      <th id=\"T_d5537_level0_col1\" class=\"col_heading level0 col1\" >單字</th>\n",
       "      <th id=\"T_d5537_level0_col2\" class=\"col_heading level0 col2\" >中文解釋</th>\n",
       "    </tr>\n",
       "  </thead>\n",
       "  <tbody>\n",
       "    <tr>\n",
       "      <td id=\"T_d5537_row0_col0\" class=\"data row0 col0\" >1</td>\n",
       "      <td id=\"T_d5537_row0_col1\" class=\"data row0 col1\" >afraid</td>\n",
       "      <td id=\"T_d5537_row0_col2\" class=\"data row0 col2\" >害怕的</td>\n",
       "    </tr>\n",
       "    <tr>\n",
       "      <td id=\"T_d5537_row1_col0\" class=\"data row1 col0\" >2</td>\n",
       "      <td id=\"T_d5537_row1_col1\" class=\"data row1 col1\" >afternoon</td>\n",
       "      <td id=\"T_d5537_row1_col2\" class=\"data row1 col2\" >下午</td>\n",
       "    </tr>\n",
       "    <tr>\n",
       "      <td id=\"T_d5537_row2_col0\" class=\"data row2 col0\" >3</td>\n",
       "      <td id=\"T_d5537_row2_col1\" class=\"data row2 col1\" >agree</td>\n",
       "      <td id=\"T_d5537_row2_col2\" class=\"data row2 col2\" >同意</td>\n",
       "    </tr>\n",
       "    <tr>\n",
       "      <td id=\"T_d5537_row3_col0\" class=\"data row3 col0\" >4</td>\n",
       "      <td id=\"T_d5537_row3_col1\" class=\"data row3 col1\" >airplane</td>\n",
       "      <td id=\"T_d5537_row3_col2\" class=\"data row3 col2\" >飛機</td>\n",
       "    </tr>\n",
       "    <tr>\n",
       "      <td id=\"T_d5537_row4_col0\" class=\"data row4 col0\" >5</td>\n",
       "      <td id=\"T_d5537_row4_col1\" class=\"data row4 col1\" >all</td>\n",
       "      <td id=\"T_d5537_row4_col2\" class=\"data row4 col2\" >全部</td>\n",
       "    </tr>\n",
       "  </tbody>\n",
       "</table>\n"
      ],
      "text/plain": [
       "<pandas.io.formats.style.Styler at 0x24fa78765e0>"
      ]
     },
     "execution_count": 54,
     "metadata": {},
     "output_type": "execute_result"
    }
   ],
   "source": [
    "df.head().style.hide(axis='index')"
   ]
  },
  {
   "cell_type": "code",
   "execution_count": 55,
   "id": "b31a9649-faa5-4399-a44c-47b0283d9eaf",
   "metadata": {},
   "outputs": [],
   "source": [
    "#output data\n",
    "fname = 'vocdb.csv'\n",
    "df.to_csv(fname, sep=',', encoding='utf-8', index=False)"
   ]
  },
  {
   "cell_type": "code",
   "execution_count": 56,
   "id": "1c67bd05-68ed-4426-9bab-cbef5c95feaf",
   "metadata": {},
   "outputs": [
    {
     "data": {
      "text/html": [
       "<style type=\"text/css\">\n",
       "</style>\n",
       "<table id=\"T_c9663\">\n",
       "  <thead>\n",
       "    <tr>\n",
       "      <th id=\"T_c9663_level0_col0\" class=\"col_heading level0 col0\" >編號</th>\n",
       "      <th id=\"T_c9663_level0_col1\" class=\"col_heading level0 col1\" >單字</th>\n",
       "      <th id=\"T_c9663_level0_col2\" class=\"col_heading level0 col2\" >中文解釋</th>\n",
       "    </tr>\n",
       "  </thead>\n",
       "  <tbody>\n",
       "    <tr>\n",
       "      <td id=\"T_c9663_row0_col0\" class=\"data row0 col0\" >1</td>\n",
       "      <td id=\"T_c9663_row0_col1\" class=\"data row0 col1\" >afraid</td>\n",
       "      <td id=\"T_c9663_row0_col2\" class=\"data row0 col2\" >害怕的</td>\n",
       "    </tr>\n",
       "    <tr>\n",
       "      <td id=\"T_c9663_row1_col0\" class=\"data row1 col0\" >2</td>\n",
       "      <td id=\"T_c9663_row1_col1\" class=\"data row1 col1\" >afternoon</td>\n",
       "      <td id=\"T_c9663_row1_col2\" class=\"data row1 col2\" >下午</td>\n",
       "    </tr>\n",
       "    <tr>\n",
       "      <td id=\"T_c9663_row2_col0\" class=\"data row2 col0\" >3</td>\n",
       "      <td id=\"T_c9663_row2_col1\" class=\"data row2 col1\" >agree</td>\n",
       "      <td id=\"T_c9663_row2_col2\" class=\"data row2 col2\" >同意</td>\n",
       "    </tr>\n",
       "    <tr>\n",
       "      <td id=\"T_c9663_row3_col0\" class=\"data row3 col0\" >4</td>\n",
       "      <td id=\"T_c9663_row3_col1\" class=\"data row3 col1\" >airplane</td>\n",
       "      <td id=\"T_c9663_row3_col2\" class=\"data row3 col2\" >飛機</td>\n",
       "    </tr>\n",
       "    <tr>\n",
       "      <td id=\"T_c9663_row4_col0\" class=\"data row4 col0\" >5</td>\n",
       "      <td id=\"T_c9663_row4_col1\" class=\"data row4 col1\" >all</td>\n",
       "      <td id=\"T_c9663_row4_col2\" class=\"data row4 col2\" >全部</td>\n",
       "    </tr>\n",
       "  </tbody>\n",
       "</table>\n"
      ],
      "text/plain": [
       "<pandas.io.formats.style.Styler at 0x24fa786f970>"
      ]
     },
     "execution_count": 56,
     "metadata": {},
     "output_type": "execute_result"
    }
   ],
   "source": [
    "#read data to test\n",
    "fname = 'vocdb.csv'\n",
    "vocdb = pd.read_csv(fname, sep=',', encoding='utf-8', engine='python')\n",
    "vocdb.head().style.hide(axis='index')"
   ]
  }
 ],
 "metadata": {
  "kernelspec": {
   "display_name": "Python 3 (ipykernel)",
   "language": "python",
   "name": "python3"
  },
  "language_info": {
   "codemirror_mode": {
    "name": "ipython",
    "version": 3
   },
   "file_extension": ".py",
   "mimetype": "text/x-python",
   "name": "python",
   "nbconvert_exporter": "python",
   "pygments_lexer": "ipython3",
   "version": "3.9.12"
  }
 },
 "nbformat": 4,
 "nbformat_minor": 5
}
